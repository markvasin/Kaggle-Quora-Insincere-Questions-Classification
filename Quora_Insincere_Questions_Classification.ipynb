{
  "nbformat": 4,
  "nbformat_minor": 0,
  "metadata": {
    "colab": {
      "name": "Quora Insincere Questions Classification.ipynb",
      "provenance": [],
      "collapsed_sections": [],
      "machine_shape": "hm",
      "include_colab_link": true
    },
    "kernelspec": {
      "name": "python3",
      "display_name": "Python 3"
    }
  },
  "cells": [
    {
      "cell_type": "markdown",
      "metadata": {
        "id": "view-in-github",
        "colab_type": "text"
      },
      "source": [
        "<a href=\"https://colab.research.google.com/github/markvasin/Kaggle-Quora-Insincere-Questions-Classification/blob/master/Quora_Insincere_Questions_Classification.ipynb\" target=\"_parent\"><img src=\"https://colab.research.google.com/assets/colab-badge.svg\" alt=\"Open In Colab\"/></a>"
      ]
    },
    {
      "cell_type": "markdown",
      "metadata": {
        "id": "UD3UdQmS4GeR",
        "colab_type": "text"
      },
      "source": [
        "#Quora Insincere Questions Classification"
      ]
    },
    {
      "cell_type": "markdown",
      "metadata": {
        "id": "bcudHsZIHDd2",
        "colab_type": "text"
      },
      "source": [
        "https://www.kaggle.com/c/quora-insincere-questions-classification"
      ]
    },
    {
      "cell_type": "markdown",
      "metadata": {
        "id": "UrHfXRVKiJoy",
        "colab_type": "text"
      },
      "source": [
        "###Packages"
      ]
    },
    {
      "cell_type": "code",
      "metadata": {
        "id": "GCHyqRTVUyrK",
        "colab_type": "code",
        "colab": {}
      },
      "source": [
        "import numpy as np\n",
        "import pandas as pd\n",
        "import matplotlib.pyplot as plt\n",
        "import seaborn as sns\n",
        "import string\n",
        "\n",
        "%matplotlib inline\n",
        "\n",
        "import warnings\n",
        "warnings.filterwarnings('ignore')"
      ],
      "execution_count": 0,
      "outputs": []
    },
    {
      "cell_type": "markdown",
      "metadata": {
        "id": "faV_Le5BE6MH",
        "colab_type": "text"
      },
      "source": [
        "##Loading Data"
      ]
    },
    {
      "cell_type": "code",
      "metadata": {
        "id": "MZkf_Pdw4SNs",
        "colab_type": "code",
        "outputId": "4da46ef4-fe22-4bad-9700-d3bc2a5c0639",
        "colab": {
          "base_uri": "https://localhost:8080/",
          "height": 34
        }
      },
      "source": [
        "# from google.colab import files\n",
        "# uploaded = files.upload()\n",
        "\n",
        "from google.colab import drive\n",
        "drive.mount('/content/drive')"
      ],
      "execution_count": 0,
      "outputs": [
        {
          "output_type": "stream",
          "text": [
            "Drive already mounted at /content/drive; to attempt to forcibly remount, call drive.mount(\"/content/drive\", force_remount=True).\n"
          ],
          "name": "stdout"
        }
      ]
    },
    {
      "cell_type": "code",
      "metadata": {
        "id": "_DWHeNf77bBC",
        "colab_type": "code",
        "colab": {}
      },
      "source": [
        "train_path = '/content/drive/My Drive/Colab Notebooks/Advanced Machine Learning/Data/train.csv'\n",
        "test_path = '/content/drive/My Drive/Colab Notebooks/Advanced Machine Learning/Data/test.csv'\n",
        "\n",
        "train_df = pd.read_csv(train_path)\n",
        "test_df = pd.read_csv(test_path)"
      ],
      "execution_count": 0,
      "outputs": []
    },
    {
      "cell_type": "code",
      "metadata": {
        "id": "cL6PuwDxE2hc",
        "colab_type": "code",
        "outputId": "34d980c6-1f87-4e7f-a24f-5d94524eafac",
        "colab": {
          "base_uri": "https://localhost:8080/",
          "height": 51
        }
      },
      "source": [
        "print('Train shape : ', train_df.shape)\n",
        "print('Test shape : ', test_df.shape)"
      ],
      "execution_count": 0,
      "outputs": [
        {
          "output_type": "stream",
          "text": [
            "Train shape :  (1306122, 3)\n",
            "Test shape :  (375806, 2)\n"
          ],
          "name": "stdout"
        }
      ]
    },
    {
      "cell_type": "code",
      "metadata": {
        "id": "7kpiVTjv85gG",
        "colab_type": "code",
        "outputId": "cef13c52-081f-4559-ea70-c5b461348318",
        "colab": {
          "base_uri": "https://localhost:8080/",
          "height": 359
        }
      },
      "source": [
        "\"\"\"\n",
        "qid - unique question identifier\n",
        "question_text - Quora question text\n",
        "target - a question labeled \"insincere\" has a value of 1, otherwise 0\n",
        "\"\"\"\n",
        "# pd.set_option('display.max_columns', None)  \n",
        "# pd.set_option('display.expand_frame_repr', False)\n",
        "# pd.set_option('max_colwidth', -1)\n",
        "train_df.sample(10)\n"
      ],
      "execution_count": 0,
      "outputs": [
        {
          "output_type": "execute_result",
          "data": {
            "text/html": [
              "<div>\n",
              "<style scoped>\n",
              "    .dataframe tbody tr th:only-of-type {\n",
              "        vertical-align: middle;\n",
              "    }\n",
              "\n",
              "    .dataframe tbody tr th {\n",
              "        vertical-align: top;\n",
              "    }\n",
              "\n",
              "    .dataframe thead th {\n",
              "        text-align: right;\n",
              "    }\n",
              "</style>\n",
              "<table border=\"1\" class=\"dataframe\">\n",
              "  <thead>\n",
              "    <tr style=\"text-align: right;\">\n",
              "      <th></th>\n",
              "      <th>qid</th>\n",
              "      <th>question_text</th>\n",
              "      <th>target</th>\n",
              "    </tr>\n",
              "  </thead>\n",
              "  <tbody>\n",
              "    <tr>\n",
              "      <th>1242832</th>\n",
              "      <td>f38ea9bcc7dc4ca4f3f0</td>\n",
              "      <td>Why is the magical community in Harry Potter r...</td>\n",
              "      <td>0</td>\n",
              "    </tr>\n",
              "    <tr>\n",
              "      <th>48044</th>\n",
              "      <td>096a6358ceaa7db2604a</td>\n",
              "      <td>How can I assemble a dog crate?</td>\n",
              "      <td>0</td>\n",
              "    </tr>\n",
              "    <tr>\n",
              "      <th>353543</th>\n",
              "      <td>454b067c40f50f96aa51</td>\n",
              "      <td>If large companies have a hard time innovating...</td>\n",
              "      <td>0</td>\n",
              "    </tr>\n",
              "    <tr>\n",
              "      <th>707863</th>\n",
              "      <td>8a99173f70e88941177e</td>\n",
              "      <td>Why is the letter 'X' popular?</td>\n",
              "      <td>0</td>\n",
              "    </tr>\n",
              "    <tr>\n",
              "      <th>266328</th>\n",
              "      <td>34201708243841ef7bdd</td>\n",
              "      <td>Why is it to hard to find my veins?</td>\n",
              "      <td>0</td>\n",
              "    </tr>\n",
              "    <tr>\n",
              "      <th>447153</th>\n",
              "      <td>5796e145924b921ecd5a</td>\n",
              "      <td>Which business product has the best requiremen...</td>\n",
              "      <td>0</td>\n",
              "    </tr>\n",
              "    <tr>\n",
              "      <th>317234</th>\n",
              "      <td>3e2c72df517d053fd538</td>\n",
              "      <td>What do I do when my Torrent stops downloading?</td>\n",
              "      <td>0</td>\n",
              "    </tr>\n",
              "    <tr>\n",
              "      <th>1237825</th>\n",
              "      <td>f293b9910367c5f7f547</td>\n",
              "      <td>How can you lose someone you love &amp; still be o...</td>\n",
              "      <td>0</td>\n",
              "    </tr>\n",
              "    <tr>\n",
              "      <th>812386</th>\n",
              "      <td>9f2bd8d78978ba4a376d</td>\n",
              "      <td>Are the Slavic word ''čaj'' and the Hindi word...</td>\n",
              "      <td>0</td>\n",
              "    </tr>\n",
              "    <tr>\n",
              "      <th>1240702</th>\n",
              "      <td>f3240ce3165efb03e2ad</td>\n",
              "      <td>What will happen if a person travels at the sp...</td>\n",
              "      <td>0</td>\n",
              "    </tr>\n",
              "  </tbody>\n",
              "</table>\n",
              "</div>"
            ],
            "text/plain": [
              "                          qid  ... target\n",
              "1242832  f38ea9bcc7dc4ca4f3f0  ...      0\n",
              "48044    096a6358ceaa7db2604a  ...      0\n",
              "353543   454b067c40f50f96aa51  ...      0\n",
              "707863   8a99173f70e88941177e  ...      0\n",
              "266328   34201708243841ef7bdd  ...      0\n",
              "447153   5796e145924b921ecd5a  ...      0\n",
              "317234   3e2c72df517d053fd538  ...      0\n",
              "1237825  f293b9910367c5f7f547  ...      0\n",
              "812386   9f2bd8d78978ba4a376d  ...      0\n",
              "1240702  f3240ce3165efb03e2ad  ...      0\n",
              "\n",
              "[10 rows x 3 columns]"
            ]
          },
          "metadata": {
            "tags": []
          },
          "execution_count": 8
        }
      ]
    }
  ]
}